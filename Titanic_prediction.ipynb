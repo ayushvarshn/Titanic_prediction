{
 "cells": [
  {
   "cell_type": "code",
   "execution_count": 1,
   "metadata": {},
   "outputs": [],
   "source": [
    "import pandas as pd\n",
    "import numpy as np\n",
    "import matplotlib.pyplot as plt\n",
    "df=pd.read_csv(\"Titanic.csv\")\n",
    "df_train=pd.read_csv(\"Titanic_Test.csv\")"
   ]
  },
  {
   "cell_type": "code",
   "execution_count": 2,
   "metadata": {},
   "outputs": [],
   "source": [
    "def scale(x):\n",
    "    x=(x-x.mean())/x.std()\n",
    "    return x"
   ]
  },
  {
   "cell_type": "code",
   "execution_count": 3,
   "metadata": {},
   "outputs": [],
   "source": [
    "x1=df['Age']\n",
    "x2=df['Fare']\n",
    "x3=df['Sex']\n",
    "x4=df['sibsp']\n",
    "x5=df['Parch']\n",
    "x6=df['Pclass']\n",
    "y=df['2urvived']\n",
    "x1=scale(x1)\n",
    "x2=scale(x2)\n",
    "x3=scale(x3)\n",
    "x4=scale(x4)\n",
    "x5=scale(x5)\n",
    "x6=scale(x6)\n"
   ]
  },
  {
   "cell_type": "code",
   "execution_count": 4,
   "metadata": {},
   "outputs": [],
   "source": [
    "T0=0\n",
    "T1=0\n",
    "T2=0\n",
    "T3=0\n",
    "T4=0\n",
    "T5=0\n",
    "T6=0\n",
    "\n"
   ]
  },
  {
   "cell_type": "code",
   "execution_count": 5,
   "metadata": {},
   "outputs": [],
   "source": [
    "def sigmoid(z):\n",
    "    return(1/(1+np.exp(-z)))\n"
   ]
  },
  {
   "cell_type": "code",
   "execution_count": 6,
   "metadata": {},
   "outputs": [],
   "source": [
    "n=float(len(y))\n",
    "J=[]\n",
    "m=[]\n",
    "alpha=0.02\n",
    "for i in range(1000):\n",
    "    h=sigmoid(T0+T1*x1+T2*x2+T3*x3+T4*x4+T5*x5+T6*x6)\n",
    "    J.append(sum((y-h)**2)/n)\n",
    "    m.append(i)\n",
    "    J0=-(2/n)*(sum(y-h))\n",
    "    J1=-(2/n)*(sum((y-h)*x1))\n",
    "    J2=-(2/n)*(sum((y-h)*x2))\n",
    "    J3=-(2/n)*(sum((y-h)*x3))\n",
    "    J4=-(2/n)*(sum((y-h)*x4))\n",
    "    J5=-(2/n)*(sum((y-h)*x5))\n",
    "    J6=-(2/n)*(sum((y-h)*x6))\n",
    "    T0=T0-(alpha*J0)\n",
    "    T1=T1-(alpha*J1)\n",
    "    T2=T2-(alpha*J2)\n",
    "    T3=T3-(alpha*J3)\n",
    "    T4=T4-(alpha*J4)\n",
    "    T5=T5-(alpha*J5)\n",
    "    T6=T6-(alpha*J6)"
   ]
  },
  {
   "cell_type": "code",
   "execution_count": 7,
   "metadata": {
    "scrolled": true
   },
   "outputs": [
    {
     "data": {
      "image/png": "[encoded data removed]",
      "text/plain": [
       "<Figure size 432x288 with 1 Axes>"
      ]
     },
     "metadata": {
      "needs_background": "light"
     },
     "output_type": "display_data"
    }
   ],
   "source": [
    "plt.plot(J,m)\n",
    "plt.show();"
   ]
  },
  {
   "cell_type": "code",
   "execution_count": 8,
   "metadata": {},
   "outputs": [],
   "source": [
    "pred=[]\n",
    "for i in range(len(y)):\n",
    "    h=sigmoid(T0+T1*x1+T2*x2+T3*x3+T4*x4+T5*x5+T6*x6)\n",
    "    if(h[i]<=0.5):\n",
    "        pred.append(0)\n",
    "    if(h[i]>=0.5):\n",
    "        pred.append(1)"
   ]
  },
  {
   "cell_type": "code",
   "execution_count": 9,
   "metadata": {},
   "outputs": [
    {
     "name": "stdout",
     "output_type": "stream",
     "text": [
      "714 898\n",
      "0.7951002227171492\n"
     ]
    }
   ],
   "source": [
    "count=0\n",
    "for i in range(len(y)):\n",
    "    if(pred[i]==y[i]):\n",
    "        count+=1\n",
    "print (count,len(y))    \n",
    "print(count/len(y))"
   ]
  },
  {
   "cell_type": "code",
   "execution_count": 10,
   "metadata": {},
   "outputs": [],
   "source": [
    "x1=df_train['Age']\n",
    "x2=df_train['Fare']\n",
    "x3=df_train['Sex']\n",
    "x4=df_train['sibsp']\n",
    "x5=df_train['Parch']\n",
    "x6=df_train['Pclass']\n",
    "y=df_train['2urvived']\n"
   ]
  },
  {
   "cell_type": "code",
   "execution_count": 11,
   "metadata": {},
   "outputs": [],
   "source": [
    "x1=scale(x1)\n",
    "x2=scale(x2)\n",
    "x3=scale(x3)\n",
    "x4=scale(x4)\n",
    "x5=scale(x5)\n",
    "x6=scale(x6)"
   ]
  },
  {
   "cell_type": "code",
   "execution_count": 12,
   "metadata": {},
   "outputs": [],
   "source": [
    "pred=[]\n",
    "for i in range(len(y)):\n",
    "    h=sigmoid(T0+T1*x1+T2*x2+T3*x3+T4*x4+T5*x5+T6*x6)\n",
    "    if(h[i]<=0.5):\n",
    "        pred.append(0)\n",
    "    if(h[i]>=0.5):\n",
    "        pred.append(1)"
   ]
  },
  {
   "cell_type": "code",
   "execution_count": 13,
   "metadata": {},
   "outputs": [
    {
     "name": "stdout",
     "output_type": "stream",
     "text": [
      "309 411\n",
      "0.7518248175182481\n"
     ]
    }
   ],
   "source": [
    "count=0\n",
    "for i in range(len(y)):\n",
    "    if(pred[i]==y[i]):\n",
    "        count+=1\n",
    "print (count,len(y))    \n",
    "print(count/len(y))"
   ]
  },
  {
   "cell_type": "code",
   "execution_count": null,
   "metadata": {},
   "outputs": [],
   "source": []
  }
 ],
 "metadata": {
  "kernelspec": {
   "display_name": "Python 3",
   "language": "python",
   "name": "python3"
  },
  "language_info": {
   "codemirror_mode": {
    "name": "ipython",
    "version": 3
   },
   "file_extension": ".py",
   "mimetype": "text/x-python",
   "name": "python",
   "nbconvert_exporter": "python",
   "pygments_lexer": "ipython3",
   "version": "3.5.2"
  }
 },
 "nbformat": 4,
 "nbformat_minor": 2
}
