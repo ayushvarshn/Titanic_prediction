{
 "cells": [
  {
   "cell_type": "code",
   "execution_count": 241,
   "metadata": {},
   "outputs": [],
   "source": [
    "import pandas as pd\n",
    "import numpy as np\n",
    "import matplotlib.pyplot as plt\n",
    "df=pd.read_csv(\"Titanic.csv\")\n",
    "df_test=pd.read_csv(\"Titanic_Test.csv\")"
   ]
  },
  {
   "cell_type": "code",
   "execution_count": 242,
   "metadata": {},
   "outputs": [],
   "source": [
    "# Feature scaling function\n",
    "def scale(x):\n",
    "    x=(x-x.mean())/x.std()\n",
    "    return x"
   ]
  },
  {
   "cell_type": "code",
   "execution_count": 243,
   "metadata": {},
   "outputs": [
    {
     "name": "stderr",
     "output_type": "stream",
     "text": [
      "/usr/local/lib/python3.5/dist-packages/ipykernel_launcher.py:7: SettingWithCopyWarning: \n",
      "A value is trying to be set on a copy of a slice from a DataFrame.\n",
      "Try using .loc[row_indexer,col_indexer] = value instead\n",
      "\n",
      "See the caveats in the documentation: http://pandas.pydata.org/pandas-docs/stable/indexing.html#indexing-view-versus-copy\n",
      "  import sys\n"
     ]
    }
   ],
   "source": [
    "# Handling Data\n",
    "X=df[['Age','Fare','Sex','sibsp','Parch', 'Pclass']]\n",
    "X.insert(0, 'X0', 1)\n",
    "\n",
    "#Scaling\n",
    "for i in range(1,X.shape[1]):\n",
    "    X[[i]]=scale(X[[i]]).values\n",
    "\n",
    "#Adding polynomial features    \n",
    "X_sq=X**2\n",
    "X=pd.concat([X,X_sq],axis=1)\n",
    "\n",
    "y=df[['2urvived']]\n"
   ]
  },
  {
   "cell_type": "code",
   "execution_count": 244,
   "metadata": {},
   "outputs": [
    {
     "name": "stdout",
     "output_type": "stream",
     "text": [
      "(898, 14)\n",
      "(898, 1)\n"
     ]
    }
   ],
   "source": [
    "print(X.shape)\n",
    "print(y.shape)"
   ]
  },
  {
   "cell_type": "code",
   "execution_count": 245,
   "metadata": {},
   "outputs": [
    {
     "name": "stdout",
     "output_type": "stream",
     "text": [
      "(14, 1)\n",
      "(898, 14)\n",
      "(898, 1)\n"
     ]
    }
   ],
   "source": [
    "#Converting to numpy array for Linear Regression\n",
    "T=np.array(X.shape[1]*[[0]])\n",
    "X=np.array(X)\n",
    "y=np.array(y)\n",
    "print(T.shape)\n",
    "print(X.shape)\n",
    "print(y.shape)"
   ]
  },
  {
   "cell_type": "code",
   "execution_count": 246,
   "metadata": {},
   "outputs": [],
   "source": [
    "def sigmoid(z):\n",
    "    return(1/(1+np.exp(-z)))"
   ]
  },
  {
   "cell_type": "code",
   "execution_count": 247,
   "metadata": {},
   "outputs": [
    {
     "name": "stdout",
     "output_type": "stream",
     "text": [
      "898.0 14\n"
     ]
    }
   ],
   "source": [
    "    n=float(X.shape[0])\n",
    "    r=X.shape[1]\n",
    "    print(n,r)\n",
    "\n",
    "    grad=r*[0]"
   ]
  },
  {
   "cell_type": "code",
   "execution_count": 248,
   "metadata": {},
   "outputs": [
    {
     "name": "stdout",
     "output_type": "stream",
     "text": [
      "Cost function after 0 iteration : 0.25\n",
      "Cost function after 100 iteration : 0.1637688652758178\n",
      "Cost function after 200 iteration : 0.15044576610643765\n",
      "Cost function after 300 iteration : 0.14578884406220205\n",
      "Cost function after 400 iteration : 0.14382310479519425\n"
     ]
    }
   ],
   "source": [
    "# TRAINING DATA USING GRADIENT DESCENT\n",
    "J=[]\n",
    "m=[]\n",
    "alpha=0.02\n",
    "for i in range(0,500):\n",
    "    h=sigmoid(np.dot(X,T))\n",
    "    e=np.square(y-h)\n",
    "    J.append(e.sum()/n)\n",
    "    m.append(i)\n",
    "    grad=np.dot(np.transpose(X),h-y)/n\n",
    "    T=T-(grad*alpha)\n",
    "    if(i%100==0):\n",
    "        print('Cost function after',i,'iteration :',J[i])\n"
   ]
  },
  {
   "cell_type": "code",
   "execution_count": 249,
   "metadata": {
    "scrolled": true
   },
   "outputs": [
    {
     "data": {
      "image/png": "[encoded data removed]",
      "text/plain": [
       "<Figure size 432x288 with 1 Axes>"
      ]
     },
     "metadata": {
      "needs_background": "light"
     },
     "output_type": "display_data"
    }
   ],
   "source": [
    "plt.plot(J,m)\n",
    "plt.show();"
   ]
  },
  {
   "cell_type": "code",
   "execution_count": 250,
   "metadata": {},
   "outputs": [],
   "source": [
    "# Prediction\n",
    "h=sigmoid(np.dot(X,T))\n",
    "pred=[]\n",
    "for i in range(len(y)):\n",
    "    if(h[i]<=0.5):\n",
    "        pred.append([0])\n",
    "    if(h[i]>=0.5):\n",
    "        pred.append([1])"
   ]
  },
  {
   "cell_type": "code",
   "execution_count": 251,
   "metadata": {},
   "outputs": [
    {
     "name": "stdout",
     "output_type": "stream",
     "text": [
      "711 898\n",
      "0.7917594654788419\n"
     ]
    }
   ],
   "source": [
    "# Calculating Accuracy\n",
    "count=0\n",
    "for i in range(len(y)):\n",
    "    if(pred[i]==y[i]):\n",
    "        count+=1\n",
    "print (count,len(y))    \n",
    "print(count/len(y))"
   ]
  },
  {
   "cell_type": "code",
   "execution_count": 252,
   "metadata": {},
   "outputs": [
    {
     "name": "stderr",
     "output_type": "stream",
     "text": [
      "/usr/local/lib/python3.5/dist-packages/ipykernel_launcher.py:7: SettingWithCopyWarning: \n",
      "A value is trying to be set on a copy of a slice from a DataFrame.\n",
      "Try using .loc[row_indexer,col_indexer] = value instead\n",
      "\n",
      "See the caveats in the documentation: http://pandas.pydata.org/pandas-docs/stable/indexing.html#indexing-view-versus-copy\n",
      "  import sys\n"
     ]
    }
   ],
   "source": [
    "# Handling Data\n",
    "X_test=df_test[['Age','Fare','Sex','sibsp','Parch', 'Pclass']]\n",
    "X_test.insert(0, 'X0', 1)\n",
    "\n",
    "#Scaling\n",
    "for i in range(1,X_test.shape[1]):\n",
    "    X_test[[i]]=scale(X_test[[i]]).values\n",
    "\n",
    "#Adding polynomial features    \n",
    "X_sq_test=X_test**2\n",
    "X_test=pd.concat([X_test,X_sq_test],axis=1)\n",
    "\n",
    "y_test=df_test[['2urvived']]\n"
   ]
  },
  {
   "cell_type": "code",
   "execution_count": 253,
   "metadata": {},
   "outputs": [
    {
     "name": "stdout",
     "output_type": "stream",
     "text": [
      "(14, 1)\n",
      "(411, 14)\n",
      "(411, 1)\n"
     ]
    }
   ],
   "source": [
    "#Converting to numpy array for Linear Regression\n",
    "\n",
    "X_test=np.array(X_test)\n",
    "y_test=np.array(y_test)\n",
    "print(T.shape)\n",
    "print(X_test.shape)\n",
    "print(y_test.shape)"
   ]
  },
  {
   "cell_type": "code",
   "execution_count": 254,
   "metadata": {},
   "outputs": [],
   "source": [
    "h=sigmoid(np.dot(X_test,T))"
   ]
  },
  {
   "cell_type": "code",
   "execution_count": 255,
   "metadata": {},
   "outputs": [],
   "source": [
    "# Prediction\n",
    "pred=[]\n",
    "for i in range(len(y_test)):   \n",
    "    if(h[i]<=0.5):\n",
    "        pred.append([0])\n",
    "    if(h[i]>=0.5):\n",
    "        pred.append([1])\n",
    "pred=np.array(pred)    "
   ]
  },
  {
   "cell_type": "code",
   "execution_count": 256,
   "metadata": {},
   "outputs": [
    {
     "name": "stdout",
     "output_type": "stream",
     "text": [
      "310 / 411\n",
      "75.4257907542579 %\n"
     ]
    }
   ],
   "source": [
    "#Accuracy\n",
    "count=0\n",
    "for i in range(len(y_test)):\n",
    "    if(pred[i]==y_test[i]):\n",
    "        count+=1\n",
    "print (count,'/',len(y_test))   \n",
    "per=(count/len(y_test))*100\n",
    "print(per,'%')"
   ]
  }
 ],
 "metadata": {
  "kernelspec": {
   "display_name": "Python 3",
   "language": "python",
   "name": "python3"
  },
  "language_info": {
   "codemirror_mode": {
    "name": "ipython",
    "version": 3
   },
   "file_extension": ".py",
   "mimetype": "text/x-python",
   "name": "python",
   "nbconvert_exporter": "python",
   "pygments_lexer": "ipython3",
   "version": "3.5.2"
  }
 },
 "nbformat": 4,
 "nbformat_minor": 2
}
