{
 "cells": [
  {
   "cell_type": "code",
   "execution_count": 352,
   "metadata": {},
   "outputs": [],
   "source": [
    "import pandas as pd\n",
    "import numpy as np\n",
    "import matplotlib.pyplot as plt\n",
    "df=pd.read_csv(\"Titanic.csv\")\n",
    "df_test=pd.read_csv(\"Titanic_Test.csv\")"
   ]
  },
  {
   "cell_type": "code",
   "execution_count": 353,
   "metadata": {},
   "outputs": [
    {
     "data": {
      "text/plain": [
       "Text(0.5, 0, '<--Death          Survived -->')"
      ]
     },
     "execution_count": 353,
     "metadata": {},
     "output_type": "execute_result"
    },
    {
     "data": {
      "image/png": "[encoded data removed]",
      "text/plain": [
       "<Figure size 432x288 with 1 Axes>"
      ]
     },
     "metadata": {
      "needs_background": "light"
     },
     "output_type": "display_data"
    }
   ],
   "source": [
    "    plt.hist([df['2urvived'],df_test['2urvived']],bins=3)\n",
    "    plt.ylabel('No of times')\n",
    "    plt.legend(['Training_Set','Test_Set'])\n",
    "    plt.xlabel('<--Death          Survived -->')\n"
   ]
  },
  {
   "cell_type": "code",
   "execution_count": 354,
   "metadata": {},
   "outputs": [],
   "source": [
    "# Feature scaling function\n",
    "def scale(X):\n",
    "    for i in range(1,X.shape[1]):\n",
    "        x=X[[i]].values\n",
    "        x=(x-x.mean())/x.std()\n",
    "        X[[i]]=x \n",
    "    return X"
   ]
  },
  {
   "cell_type": "code",
   "execution_count": 355,
   "metadata": {},
   "outputs": [],
   "source": [
    "# Handling Data\n",
    "\n",
    "def handle_data(X):\n",
    "    X.insert(0, 'X0', 1)\n",
    "    X=scale(X)    \n",
    "    X_sq=X**2\n",
    "    X=pd.concat([X,X_sq],axis=1)\n",
    "    return(X)\n"
   ]
  },
  {
   "cell_type": "code",
   "execution_count": 356,
   "metadata": {},
   "outputs": [],
   "source": [
    "def sigmoid(z):\n",
    "    return(1/(1+np.exp(-z)))"
   ]
  },
  {
   "cell_type": "code",
   "execution_count": 357,
   "metadata": {},
   "outputs": [],
   "source": [
    "def train(X,y):    \n",
    "    T=np.array(X.shape[1]*[[0]])\n",
    "    n=float(X.shape[0])\n",
    "    r=X.shape[1]\n",
    "    grad=r*[0]\n",
    "    # TRAINING DATA USING GRADIENT DESCENT\n",
    "    J=[]\n",
    "    m=[]\n",
    "    alpha=0.02\n",
    "    for i in range(2000):\n",
    "        h=sigmoid(np.dot(X,T))\n",
    "        e=np.square(h-y)\n",
    "        J.append(e.sum()/n)\n",
    "        m.append(i)\n",
    "        grad=np.dot(np.transpose(X),h-y)/n\n",
    "        T=T-(grad*alpha)\n",
    "        if(i%200==0):\n",
    "            print('Cost function after',i,'iteration :',J[i])\n",
    "    plt.plot(J,m)\n",
    "    plt.show();\n",
    "    return (T)    "
   ]
  },
  {
   "cell_type": "code",
   "execution_count": 358,
   "metadata": {},
   "outputs": [],
   "source": [
    "def predict(h,threshold):\n",
    "    pred=[]\n",
    "    for i in range(len(h)): \n",
    "        if(h[i]<=threshold):\n",
    "            pred.append(0)\n",
    "        if(h[i]>=threshold):\n",
    "            pred.append(1)\n",
    "    pred=np.array(pred) \n",
    "    return pred"
   ]
  },
  {
   "cell_type": "code",
   "execution_count": 359,
   "metadata": {},
   "outputs": [],
   "source": [
    "def model(X,T):\n",
    "    h=sigmoid(np.dot(X,T))\n",
    "    return(h)"
   ]
  },
  {
   "cell_type": "code",
   "execution_count": 360,
   "metadata": {},
   "outputs": [],
   "source": [
    "# Calculating Accuracy and Fscore\n",
    "def evaluate(pred,y):\n",
    "    count=0\n",
    "    tp=0\n",
    "    fp=0\n",
    "    fn=0\n",
    "    tn=0\n",
    "    for i in range(len(y)):\n",
    "        if(pred[i]==1) and (y[i]==1):\n",
    "            tp+=1\n",
    "        if(pred[i]==1) and (y[i]==0):\n",
    "            fp+=1\n",
    "        if(pred[i]==0) and (y[i]==1):\n",
    "            fn+=1        \n",
    "        if(pred[i]==0) and (y[i]==0):\n",
    "            tn+=1  \n",
    "        if(pred[i]==y[i]):\n",
    "            count+=1\n",
    "    P=tp/(tp+fp)\n",
    "    R=tp/(tp+fn)\n",
    "    F=(2*P*R)/(P+R)\n",
    "    Acc=(count/len(y))*100\n",
    "    \n",
    "    eval = { '':[P,R,F,Acc]} \n",
    "    eval=pd.DataFrame(eval,index=['Precision','Recall','Fscore','Accuracy'])\n",
    "    print(eval)\n"
   ]
  },
  {
   "cell_type": "code",
   "execution_count": 361,
   "metadata": {},
   "outputs": [
    {
     "name": "stderr",
     "output_type": "stream",
     "text": [
      "/usr/local/lib/python3.5/dist-packages/ipykernel_launcher.py:6: SettingWithCopyWarning: \n",
      "A value is trying to be set on a copy of a slice from a DataFrame.\n",
      "Try using .loc[row_indexer,col_indexer] = value instead\n",
      "\n",
      "See the caveats in the documentation: http://pandas.pydata.org/pandas-docs/stable/indexing.html#indexing-view-versus-copy\n",
      "  \n"
     ]
    },
    {
     "name": "stdout",
     "output_type": "stream",
     "text": [
      "(14, 1) (898, 14) (898, 1)\n"
     ]
    }
   ],
   "source": [
    "# For Training Set\n",
    "X=df[['Age','Fare','Sex','sibsp','Parch', 'Pclass']]\n",
    "y=df[['2urvived']]\n",
    "X=handle_data(X)\n",
    "X=np.array(X)\n",
    "y=np.array(y)\n",
    "print(T.shape,X.shape,y.shape)\n"
   ]
  },
  {
   "cell_type": "code",
   "execution_count": 362,
   "metadata": {},
   "outputs": [
    {
     "name": "stdout",
     "output_type": "stream",
     "text": [
      "Cost function after 0 iteration : 0.25\n",
      "Cost function after 200 iteration : 0.150433365583916\n",
      "Cost function after 400 iteration : 0.1438189371543833\n",
      "Cost function after 600 iteration : 0.14232727245829926\n",
      "Cost function after 800 iteration : 0.141769187883443\n",
      "Cost function after 1000 iteration : 0.1414654843095245\n",
      "Cost function after 1200 iteration : 0.1412575154506083\n",
      "Cost function after 1400 iteration : 0.1410977438244016\n",
      "Cost function after 1600 iteration : 0.14096846630635276\n",
      "Cost function after 1800 iteration : 0.1408614613290713\n"
     ]
    },
    {
     "data": {
      "image/png": "[encoded data removed]",
      "text/plain": [
       "<Figure size 432x288 with 1 Axes>"
      ]
     },
     "metadata": {
      "needs_background": "light"
     },
     "output_type": "display_data"
    }
   ],
   "source": [
    "T=train(X,y)\n",
    "h=model(X,T)"
   ]
  },
  {
   "cell_type": "code",
   "execution_count": 374,
   "metadata": {},
   "outputs": [
    {
     "name": "stdout",
     "output_type": "stream",
     "text": [
      "                    \n",
      "Precision   0.618056\n",
      "Recall      0.402715\n",
      "Fscore      0.487671\n",
      "Accuracy   79.175947\n"
     ]
    }
   ],
   "source": [
    "pred=predict(h,0.5)\n",
    "evaluate(pred,y)"
   ]
  },
  {
   "cell_type": "code",
   "execution_count": 375,
   "metadata": {},
   "outputs": [
    {
     "name": "stderr",
     "output_type": "stream",
     "text": [
      "/usr/local/lib/python3.5/dist-packages/ipykernel_launcher.py:6: SettingWithCopyWarning: \n",
      "A value is trying to be set on a copy of a slice from a DataFrame.\n",
      "Try using .loc[row_indexer,col_indexer] = value instead\n",
      "\n",
      "See the caveats in the documentation: http://pandas.pydata.org/pandas-docs/stable/indexing.html#indexing-view-versus-copy\n",
      "  \n"
     ]
    }
   ],
   "source": [
    "# Cross Validation Test\n",
    "\n",
    "X_test=df_test[['Age','Fare','Sex','sibsp','Parch', 'Pclass']]\n",
    "y_test=df_test[['2urvived']]\n",
    "\n",
    "X_test=handle_data(X_test)\n",
    "X_test=np.array(X_test)\n",
    "y_test=np.array(y_test)"
   ]
  },
  {
   "cell_type": "code",
   "execution_count": 379,
   "metadata": {},
   "outputs": [
    {
     "name": "stdout",
     "output_type": "stream",
     "text": [
      "                    \n",
      "Precision   0.655914\n",
      "Recall      0.504132\n",
      "Fscore      0.570093\n",
      "Accuracy   77.615572\n"
     ]
    }
   ],
   "source": [
    "h=model(X_test,T)\n",
    "pred=predict(h,0.4)\n",
    "evaluate(pred,y_test)"
   ]
  }
 ],
 "metadata": {
  "kernelspec": {
   "display_name": "Python 3",
   "language": "python",
   "name": "python3"
  },
  "language_info": {
   "codemirror_mode": {
    "name": "ipython",
    "version": 3
   },
   "file_extension": ".py",
   "mimetype": "text/x-python",
   "name": "python",
   "nbconvert_exporter": "python",
   "pygments_lexer": "ipython3",
   "version": "3.5.2"
  }
 },
 "nbformat": 4,
 "nbformat_minor": 2
}
